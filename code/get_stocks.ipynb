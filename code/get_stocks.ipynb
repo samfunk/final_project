{
 "cells": [
  {
   "cell_type": "markdown",
   "metadata": {},
   "source": [
    "# Download and Format Stock Data from Quandl"
   ]
  },
  {
   "cell_type": "code",
   "execution_count": null,
   "metadata": {
    "nbpresent": {
     "id": "9bea1a25-d005-49b2-ae00-966f362ea5f8"
    }
   },
   "outputs": [],
   "source": [
    "from pymongo import MongoClient\n",
    "import urllib\n",
    "import json\n",
    "import quandl\n",
    "\n",
    "token = 'authtoken here'\n",
    "%matplotlib inline\n",
    "\n",
    "client = MongoClient()\n",
    "cols = client.quandl_stocks.collections"
   ]
  },
  {
   "cell_type": "code",
   "execution_count": null,
   "metadata": {
    "nbpresent": {
     "id": "f06b9156-46eb-4eaa-a261-e3c887320085"
    }
   },
   "outputs": [],
   "source": [
    "with urllib.request.urlopen('http://www.sharadar.com/meta/tickers.json') as url:\n",
    "    data = json.loads(url.read().decode())\n",
    "    cols.insert_many(data)"
   ]
  },
  {
   "cell_type": "code",
   "execution_count": null,
   "metadata": {
    "nbpresent": {
     "id": "d01ef350-70c7-4372-b1c4-93ad302b1a15"
    },
    "scrolled": true
   },
   "outputs": [],
   "source": [
    "attrs = {'Adj. Open': 'open', 'Adj. High': 'high', 'Adj. Low': 'low', 'Adj. Close': 'close', 'Adj. Volume': 'volume'}\n",
    "for col in cols.find():\n",
    "    ticker = col['Ticker']\n",
    "    try:\n",
    "        stock_data = quandl.get(\"WIKI/%s\" % ticker, authtoken=token)\n",
    "        cols.update_one({'_id': col['_id']}, {'$set': {'date': stock_data.index.astype(str).tolist()}})\n",
    "        for key, value in attrs.items():\n",
    "            cols.update_one({'_id': col['_id']}, {'$set': {value: stock_data[key].tolist()}})\n",
    "        print(ticker, 'added')\n",
    "    except:\n",
    "        cols.remove({'_id': col['_id']})\n",
    "        print(ticker, 'deleted')"
   ]
  },
  {
   "cell_type": "code",
   "execution_count": null,
   "metadata": {},
   "outputs": [],
   "source": []
  }
 ],
 "metadata": {
  "kernelspec": {
   "display_name": "Python [default]",
   "language": "python",
   "name": "python3"
  },
  "language_info": {
   "codemirror_mode": {
    "name": "ipython",
    "version": 3
   },
   "file_extension": ".py",
   "mimetype": "text/x-python",
   "name": "python",
   "nbconvert_exporter": "python",
   "pygments_lexer": "ipython3",
   "version": "3.5.4"
  }
 },
 "nbformat": 4,
 "nbformat_minor": 2
}
